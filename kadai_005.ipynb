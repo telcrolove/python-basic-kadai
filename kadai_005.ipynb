{
  "nbformat": 4,
  "nbformat_minor": 0,
  "metadata": {
    "colab": {
      "provenance": [],
      "gpuType": "T4"
    },
    "kernelspec": {
      "name": "python3",
      "display_name": "Python 3"
    },
    "language_info": {
      "name": "python"
    },
    "accelerator": "GPU"
  },
  "cells": [
    {
      "cell_type": "code",
      "execution_count": 8,
      "metadata": {
        "colab": {
          "base_uri": "https://localhost:8080/"
        },
        "id": "Pz-GWULDZjcD",
        "outputId": "8ed6af6c-ec0b-462b-82df-53e3eaa7ef72"
      },
      "outputs": [
        {
          "output_type": "stream",
          "name": "stdout",
          "text": [
            "75.0㎠\n"
          ]
        }
      ],
      "source": [
        "# 変数代入\n",
        "top_side = 10\n",
        "bottom_side = 20\n",
        "hight = 5\n",
        "\n",
        "#　計算　公式：台形の面積 =（上辺＋下辺）× 高さ ÷ 2\n",
        "calc =(top_side + bottom_side) * hight /2\n",
        "#出力\n",
        "print(f\"{calc}㎠\")\n"
      ]
    },
    {
      "cell_type": "code",
      "source": [],
      "metadata": {
        "id": "f3uruvsKZocT"
      },
      "execution_count": null,
      "outputs": []
    }
  ]
}