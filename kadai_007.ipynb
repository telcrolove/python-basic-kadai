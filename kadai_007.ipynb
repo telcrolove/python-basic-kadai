{
  "nbformat": 4,
  "nbformat_minor": 0,
  "metadata": {
    "colab": {
      "provenance": []
    },
    "kernelspec": {
      "name": "python3",
      "display_name": "Python 3"
    },
    "language_info": {
      "name": "python"
    }
  },
  "cells": [
    {
      "cell_type": "code",
      "execution_count": 7,
      "metadata": {
        "colab": {
          "base_uri": "https://localhost:8080/"
        },
        "id": "TIL_ij4kK0b_",
        "outputId": "0802988d-32c8-4ff1-aec1-f08dceda2928"
      },
      "outputs": [
        {
          "output_type": "stream",
          "name": "stdout",
          "text": [
            "月曜日は晴れです\n",
            "晴れ\n"
          ]
        }
      ],
      "source": [
        "array = ['月曜日は晴れです','火曜日は雨です','水曜日は晴れです','木曜日は晴れです','金曜日は曇りです','土曜日は曇りのち雨です','日曜日は雷雨です']\n",
        "print(array[0])\n",
        "dictionary = {'mon': '晴れ','tue': '雨','wed': '晴れ','thu': '晴れ','fri': '曇り','sat': '曇りのち雨','sun': '雷雨'}\n",
        "print(dictionary['mon'])"
      ]
    }
  ]
}