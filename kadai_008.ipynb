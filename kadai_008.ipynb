{
  "nbformat": 4,
  "nbformat_minor": 0,
  "metadata": {
    "colab": {
      "provenance": []
    },
    "kernelspec": {
      "name": "python3",
      "display_name": "Python 3"
    },
    "language_info": {
      "name": "python"
    }
  },
  "cells": [
    {
      "cell_type": "code",
      "execution_count": 11,
      "metadata": {
        "colab": {
          "base_uri": "https://localhost:8080/"
        },
        "id": "3UStYmT5RIoB",
        "outputId": "534142e7-2983-41ed-faa1-5588e8c63229"
      },
      "outputs": [
        {
          "output_type": "stream",
          "name": "stdout",
          "text": [
            "13\n",
            "13\n"
          ]
        }
      ],
      "source": [
        "import random\n",
        "var = random.randint(1,15)\n",
        "\n",
        "print(var)\n",
        "\n",
        "if var % 3 == 0 and var % 5 == 0:\n",
        "  print('FizzBuzz')\n",
        "elif var % 5 == 0:\n",
        "  print('Buzz')\n",
        "elif var % 3 == 0:\n",
        "  print('Fizz')\n",
        "else:\n",
        "  print(var)"
      ]
    }
  ]
}