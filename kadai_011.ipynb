{
  "nbformat": 4,
  "nbformat_minor": 0,
  "metadata": {
    "colab": {
      "provenance": []
    },
    "kernelspec": {
      "name": "python3",
      "display_name": "Python 3"
    },
    "language_info": {
      "name": "python"
    }
  },
  "cells": [
    {
      "cell_type": "code",
      "execution_count": 21,
      "metadata": {
        "colab": {
          "base_uri": "https://localhost:8080/"
        },
        "id": "TKLLP9y3qm1_",
        "outputId": "581c4153-2a91-4593-b7ea-4d8b9f7d81ba"
      },
      "outputs": [
        {
          "output_type": "stream",
          "name": "stdout",
          "text": [
            "水\n",
            "金\n",
            "地\n",
            "火\n",
            "木\n",
            "土\n",
            "天\n",
            "海\n",
            "冥\n",
            "水\n",
            "金\n",
            "地\n",
            "火\n",
            "木\n",
            "土\n",
            "天\n",
            "海\n",
            "冥\n"
          ]
        }
      ],
      "source": [
        "arrays = [\"水\",\"金\",\"地\",\"火\",\"木\",\"土\",\"天\",\"海\",\"冥\"]\n",
        "\n",
        "for array in arrays:\n",
        "  print(array)\n",
        "\n",
        "\n",
        "i = 0\n",
        "\n",
        "while arrays[i] != 0:\n",
        "\n",
        "  print(arrays[i])\n",
        "\n",
        "  if i == 8:\n",
        "    break\n",
        "\n",
        "  i = i +1\n"
      ]
    }
  ]
}