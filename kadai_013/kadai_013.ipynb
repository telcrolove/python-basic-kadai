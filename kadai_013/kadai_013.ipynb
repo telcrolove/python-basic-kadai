{
  "nbformat": 4,
  "nbformat_minor": 0,
  "metadata": {
    "colab": {
      "provenance": []
    },
    "kernelspec": {
      "name": "python3",
      "display_name": "Python 3"
    },
    "language_info": {
      "name": "python"
    }
  },
  "cells": [
    {
      "cell_type": "code",
      "execution_count": 16,
      "metadata": {
        "colab": {
          "base_uri": "https://localhost:8080/"
        },
        "id": "L37462RAZAgX",
        "outputId": "84766294-7107-41a2-e1ca-8ef19f5257eb"
      },
      "outputs": [
        {
          "output_type": "execute_result",
          "data": {
            "text/plain": [
              "121.0"
            ]
          },
          "metadata": {},
          "execution_count": 16
        }
      ],
      "source": [
        "def amount(price,tax) -> int:\n",
        "\n",
        "  return price + price * (tax/100)\n",
        "\n",
        "amount(110,10)\n",
        "\n"
      ]
    },
    {
      "cell_type": "code",
      "source": [],
      "metadata": {
        "id": "Oul8MB1lbYfO"
      },
      "execution_count": null,
      "outputs": []
    }
  ]
}