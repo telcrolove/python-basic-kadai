{
  "nbformat": 4,
  "nbformat_minor": 0,
  "metadata": {
    "colab": {
      "provenance": []
    },
    "kernelspec": {
      "name": "python3",
      "display_name": "Python 3"
    },
    "language_info": {
      "name": "python"
    }
  },
  "cells": [
    {
      "cell_type": "code",
      "execution_count": 11,
      "metadata": {
        "colab": {
          "base_uri": "https://localhost:8080/"
        },
        "id": "L37462RAZAgX",
        "outputId": "58f199ef-5850-4637-bf67-e77a7a8a690d"
      },
      "outputs": [
        {
          "output_type": "stream",
          "name": "stdout",
          "text": [
            "121.00000000000001\n"
          ]
        }
      ],
      "source": [
        "def calculate_total(price,tax):\n",
        "\n",
        "  total = price * tax\n",
        "\n",
        "  print(total)\n",
        "\n",
        "calculate_total(110,1.1)\n",
        "\n"
      ]
    },
    {
      "cell_type": "code",
      "source": [],
      "metadata": {
        "id": "Oul8MB1lbYfO"
      },
      "execution_count": null,
      "outputs": []
    }
  ]
}